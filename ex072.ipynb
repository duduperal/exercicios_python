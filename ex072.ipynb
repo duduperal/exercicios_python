{
 "cells": [
  {
   "cell_type": "markdown",
   "id": "21567a4e-a6ea-4833-93a3-92a9984f0097",
   "metadata": {},
   "source": [
    "Programa que o usuário digita um número inteiro e o programa informa este número por extenso"
   ]
  },
  {
   "cell_type": "markdown",
   "id": "16910b9d-341b-4e1f-90a6-0d76bfbdf67e",
   "metadata": {},
   "source": [
    "Defino a tupla(lista)"
   ]
  },
  {
   "cell_type": "code",
   "id": "828de4d7-dd84-487b-8c72-3508a1eea216",
   "metadata": {
    "ExecuteTime": {
     "end_time": "2024-06-21T18:02:33.167532Z",
     "start_time": "2024-06-21T18:02:33.164155Z"
    }
   },
   "source": "lista = ('ZERO', 'UM', 'DOIS', 'TRÊS', 'QUATRO', 'CINCO', 'SEIS', 'SETE', 'OITO', 'NOVE', 'DEZ', 'ONZE', 'DOZE', 'TREZE', 'QUATORZE', 'QUINZE', 'DEZESSEIS', 'DEZESSETE', 'DEZOITO', 'DEZENOVE', 'VINTE')\n",
   "outputs": [],
   "execution_count": 1
  },
  {
   "cell_type": "markdown",
   "id": "507ac0c4-6b77-4943-a874-359f9caf0949",
   "metadata": {},
   "source": [
    "Peço ao usuário que digite um número inteiro de 0 a 20, se ele digitar algum número que não esteja nesse range o programa pede novamente um número ao usuário."
   ]
  },
  {
   "cell_type": "code",
   "id": "9f05fc28-bb27-4506-bc8b-e216d1517bb5",
   "metadata": {
    "ExecuteTime": {
     "end_time": "2024-06-21T18:03:25.425375Z",
     "start_time": "2024-06-21T18:03:23.964842Z"
    }
   },
   "source": [
    "num = 21\n",
    "while num not in range(0, 21):\n",
    "    num = int(input('Digite um número entre 0 e 20: '))\n",
    "    if num not in range(0, 21):\n",
    "        print('Número ínvalido...')\n",
    "        "
   ],
   "outputs": [],
   "execution_count": 10
  },
  {
   "cell_type": "markdown",
   "id": "020cba14-1201-4a96-8227-971b7cc6840f",
   "metadata": {},
   "source": [
    "O programa escreve o número inteiro digitado por extenso!"
   ]
  },
  {
   "cell_type": "code",
   "id": "c5232258-8f59-411d-b10c-1d4a616d79b4",
   "metadata": {
    "ExecuteTime": {
     "end_time": "2024-06-21T18:03:26.865150Z",
     "start_time": "2024-06-21T18:03:26.862642Z"
    }
   },
   "source": "print(f'Você digitou o número {lista[num]}')\n",
   "outputs": [
    {
     "name": "stdout",
     "output_type": "stream",
     "text": [
      "Você digitou o número QUATRO\n"
     ]
    }
   ],
   "execution_count": 11
  },
  {
   "cell_type": "code",
   "execution_count": null,
   "id": "4bedca52-3551-417e-b20c-26136911692d",
   "metadata": {},
   "outputs": [],
   "source": []
  }
 ],
 "metadata": {
  "kernelspec": {
   "display_name": "Python 3 (ipykernel)",
   "language": "python",
   "name": "python3"
  },
  "language_info": {
   "codemirror_mode": {
    "name": "ipython",
    "version": 3
   },
   "file_extension": ".py",
   "mimetype": "text/x-python",
   "name": "python",
   "nbconvert_exporter": "python",
   "pygments_lexer": "ipython3",
   "version": "3.11.7"
  }
 },
 "nbformat": 4,
 "nbformat_minor": 5
}
