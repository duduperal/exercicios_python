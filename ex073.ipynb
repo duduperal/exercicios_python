{
 "cells": [
  {
   "cell_type": "markdown",
   "id": "55e71e4d-6e20-4c54-81ff-0729f89cff56",
   "metadata": {},
   "source": [
    "Este programa irá mostrar \n",
    "Os 5 primeiros colocados da tabela\n",
    "Os últimos 4 colocados\n",
    "Uma lista com os times em ordem alfabética\n",
    "E em que posição na tabela está o time 'São Paulo'"
   ]
  },
  {
   "cell_type": "markdown",
   "id": "e7334188-9d45-4ea2-b341-d9a59af22550",
   "metadata": {},
   "source": [
    "Começo estabelecendo a minha tabela dos top20 \n",
    "fonte: GOOGLE"
   ]
  },
  {
   "cell_type": "code",
   "execution_count": 37,
   "id": "e62c7648-ac72-4d10-9d54-261f483e182b",
   "metadata": {},
   "outputs": [],
   "source": [
    "tabela20 = ('Flamengo', 'Botafogo', 'Palmeiras', 'Athletico-PR', 'Bahia', 'Cruzeiro', 'São Paulo', 'Bragantino', 'Internacional', 'Atlético-MG', 'Juventude', 'Fortaleza', 'Cuiabá', 'Criciúma', 'EC Vitória', 'Atlético-GO', 'Vasco da Gama', 'Corinthians', 'Grêmio', 'Fluminense')\n"
   ]
  },
  {
   "cell_type": "markdown",
   "id": "b97de8f9-7557-4e1e-b560-86854ad598cd",
   "metadata": {},
   "source": [
    "Mostrando os 5 primeiros colocados da tabela..."
   ]
  },
  {
   "cell_type": "code",
   "execution_count": 38,
   "id": "11ce2244-6a47-48e7-b902-3cb554bb6e2c",
   "metadata": {},
   "outputs": [
    {
     "name": "stdout",
     "output_type": "stream",
     "text": [
      "Os 5 primeiros colocados da tabela são: Flamengo, Botafogo, Palmeiras, Athletico-PR, Bahia, Cruzeiro, "
     ]
    }
   ],
   "source": [
    "print(f'Os 5 primeiros colocados da tabela são:', end= ' ')\n",
    "for c in tabela20[:6]:\n",
    "    print(c, end= ', ')\n",
    "    "
   ]
  },
  {
   "cell_type": "markdown",
   "id": "b94ed51b-3d9f-4a0c-a0d2-9f808ade6d17",
   "metadata": {},
   "source": [
    "Mostrando os últimos 4 colocados..."
   ]
  },
  {
   "cell_type": "code",
   "execution_count": 39,
   "id": "dd0283cb-78a7-43c4-b7a3-d937c67fba93",
   "metadata": {},
   "outputs": [
    {
     "name": "stdout",
     "output_type": "stream",
     "text": [
      "Os últimos quatro são: ('Vasco da Gama', 'Corinthians', 'Grêmio', 'Fluminense')\n"
     ]
    }
   ],
   "source": "print(f'Os últimos quatro são: {tabela20[-4:]}')\n"
  },
  {
   "cell_type": "markdown",
   "id": "bd5253f6-b555-43f1-9b05-0847f2b2f037",
   "metadata": {},
   "source": [
    "Mostrando a tabela20 em ordem alfabética..."
   ]
  },
  {
   "cell_type": "code",
   "execution_count": 40,
   "id": "ca20d241-ef00-4ee4-be71-3e933de76820",
   "metadata": {},
   "outputs": [
    {
     "name": "stdout",
     "output_type": "stream",
     "text": [
      "['Athletico-PR', 'Atlético-GO', 'Atlético-MG', 'Bahia', 'Botafogo', 'Bragantino', 'Corinthians', 'Criciúma', 'Cruzeiro', 'Cuiabá', 'EC Vitória', 'Flamengo', 'Fluminense', 'Fortaleza', 'Grêmio', 'Internacional', 'Juventude', 'Palmeiras', 'São Paulo', 'Vasco da Gama']\n"
     ]
    }
   ],
   "source": [
    "tabela20_alpha = sorted(tabela20)\n",
    "print(tabela20_alpha)\n"
   ]
  },
  {
   "cell_type": "markdown",
   "id": "a17dec75-473a-45a1-a665-249b46f81280",
   "metadata": {},
   "source": [
    "Achando em que posição o time da 'São Paulo' está..."
   ]
  },
  {
   "cell_type": "code",
   "execution_count": 41,
   "id": "d688b552-3038-49fa-af50-deb1f04d4069",
   "metadata": {},
   "outputs": [
    {
     "name": "stdout",
     "output_type": "stream",
     "text": [
      "O São Paulo se encontra na posição 7\n"
     ]
    }
   ],
   "source": [
    "if 'São Paulo' not in tabela20:\n",
    "    print('Time não encontrado')\n",
    "else:\n",
    "    posicao = tabela20.index('São Paulo')\n",
    "    print(f'O São Paulo se encontra na posição {posicao + 1}')\n",
    "    "
   ]
  },
  {
   "metadata": {},
   "cell_type": "code",
   "outputs": [],
   "execution_count": null,
   "source": "",
   "id": "c17569a5f0aabb65"
  }
 ],
 "metadata": {
  "kernelspec": {
   "display_name": "Python 3 (ipykernel)",
   "language": "python",
   "name": "python3"
  },
  "language_info": {
   "codemirror_mode": {
    "name": "ipython",
    "version": 3
   },
   "file_extension": ".py",
   "mimetype": "text/x-python",
   "name": "python",
   "nbconvert_exporter": "python",
   "pygments_lexer": "ipython3",
   "version": "3.11.7"
  }
 },
 "nbformat": 4,
 "nbformat_minor": 5
}
