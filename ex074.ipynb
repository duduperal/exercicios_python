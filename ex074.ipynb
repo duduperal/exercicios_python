{
 "cells": [
  {
   "cell_type": "markdown",
   "id": "acd6751e-4874-4f54-bb33-d1ae7fbd9a64",
   "metadata": {},
   "source": [
    "Este programa deverá gerar uma tupla com cinco valores aleatórios, e depois mostrar esta tupla dizendo qual o maior e o menor valor"
   ]
  },
  {
   "cell_type": "markdown",
   "id": "0b34f9b3-f853-4246-a4f3-f0ac2970a463",
   "metadata": {},
   "source": [
    "Começamos importando a função randint da biblioteca random e criamos a nossa lista aleatória"
   ]
  },
  {
   "cell_type": "code",
   "execution_count": 18,
   "id": "ef50cce0-65a5-4bfc-ae0b-30cfbe6aeed9",
   "metadata": {},
   "outputs": [],
   "source": [
    "from random import randint\n",
    "lista = (randint(0, 9), randint(0, 9), randint(0, 9), randint(0, 9), randint(0, 9))\n"
   ]
  },
  {
   "cell_type": "markdown",
   "id": "42f8a14c-1c87-4c27-aaf9-e0f33bfb3140",
   "metadata": {},
   "source": [
    "Agora o programa deve achar o maior e menor número."
   ]
  },
  {
   "cell_type": "code",
   "execution_count": 19,
   "id": "122ee81f-8e73-4680-9491-090f22753348",
   "metadata": {},
   "outputs": [],
   "source": [
    "menor = maior = 0\n",
    "for pos, c in enumerate(lista):\n",
    "    if pos == 0:\n",
    "        menor = c\n",
    "    if maior <= c:\n",
    "        maior = c\n",
    "    elif menor >= c:\n",
    "        menor = c\n"
   ]
  },
  {
   "cell_type": "markdown",
   "id": "921f6805-d7d9-435d-b522-da98f6b6822a",
   "metadata": {},
   "source": [
    "Depois de conseguir o maior e o menor valor ele irá mostrar para o usuário os resultados."
   ]
  },
  {
   "cell_type": "code",
   "execution_count": 20,
   "id": "ea7a8ccd-5174-4ade-8548-5933d9bd5718",
   "metadata": {},
   "outputs": [
    {
     "name": "stdout",
     "output_type": "stream",
     "text": [
      "Os valores sorteados foram: (0, 7, 9, 9, 7)\n",
      "O maior valor sorteado foi 9\n",
      "O menor valor sorteado foi 0\n"
     ]
    }
   ],
   "source": [
    "print(f'Os valores sorteados foram: {lista}')\n",
    "print(f'O maior valor sorteado foi {maior}')\n",
    "print(f'O menor valor sorteado foi {menor}')\n"
   ]
  },
  {
   "cell_type": "code",
   "execution_count": null,
   "id": "c7b54d94-b0a6-4f6e-b83c-6242bb4d533f",
   "metadata": {},
   "outputs": [],
   "source": []
  }
 ],
 "metadata": {
  "kernelspec": {
   "display_name": "Python 3 (ipykernel)",
   "language": "python",
   "name": "python3"
  },
  "language_info": {
   "codemirror_mode": {
    "name": "ipython",
    "version": 3
   },
   "file_extension": ".py",
   "mimetype": "text/x-python",
   "name": "python",
   "nbconvert_exporter": "python",
   "pygments_lexer": "ipython3",
   "version": "3.11.7"
  }
 },
 "nbformat": 4,
 "nbformat_minor": 5
}
