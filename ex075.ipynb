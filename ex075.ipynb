{
 "cells": [
  {
   "cell_type": "markdown",
   "id": "b9310106-3bf6-4683-9074-b7a41b0c7ac0",
   "metadata": {},
   "source": [
    "Este programa deverá ler 4 valores, criar uma lista com esses 4 valores, dizer quantas vezes o 9 apareceu, checar em qual posição o valor 3 foi digitado, e quais foram os valores pares digitados.\n"
   ]
  },
  {
   "cell_type": "markdown",
   "id": "31ce2b39-cff2-4742-9fb7-6231ca963d63",
   "metadata": {},
   "source": [
    "O programa começa pedindo para que o usuário digite 4 números"
   ]
  },
  {
   "cell_type": "code",
   "execution_count": 41,
   "id": "5d660770-0642-40e8-9229-fec4fc03d393",
   "metadata": {},
   "outputs": [
    {
     "name": "stdin",
     "output_type": "stream",
     "text": [
      "Digite um número:  2\n",
      "Digite outro número:  4\n",
      "Digite mais um número:  6\n",
      "Digite o último número:  8\n"
     ]
    }
   ],
   "source": [
    "num1 = int(input('Digite um número: '))\n",
    "num2 = int(input('Digite outro número: '))\n",
    "num3 = int(input('Digite mais um número: '))\n",
    "num4 = int(input('Digite o último número: '))\n"
   ]
  },
  {
   "cell_type": "markdown",
   "id": "282d80f0-4d8c-4a72-aa23-e6565fedb9d9",
   "metadata": {},
   "source": [
    "Depois o programa cria uma tupla com os 4 valores digitados"
   ]
  },
  {
   "cell_type": "code",
   "execution_count": 42,
   "id": "2184217e-a481-465e-817f-82630f44367a",
   "metadata": {},
   "outputs": [],
   "source": "tuple = (num1, num2, num3, num4)\n"
  },
  {
   "cell_type": "markdown",
   "id": "3a399aad-c9df-4b55-b2bb-af1431c5ed0c",
   "metadata": {},
   "source": [
    "Agora o programa irá checar quantas vezes o 9 apareceu"
   ]
  },
  {
   "cell_type": "code",
   "execution_count": 43,
   "id": "fcf4f546-c821-4fde-83af-080b02145830",
   "metadata": {},
   "outputs": [
    {
     "name": "stdout",
     "output_type": "stream",
     "text": [
      "O valor 9 apareceu 0 vezes\n"
     ]
    }
   ],
   "source": [
    "cont9 = 0\n",
    "for c in tuple:\n",
    "    if c == 9:\n",
    "        cont9 += 1\n",
    "print(f'O valor 9 apareceu {cont9} vezes')\n"
   ]
  },
  {
   "cell_type": "markdown",
   "id": "5b65e126-a240-4def-8f76-dae535eab207",
   "metadata": {},
   "source": [
    "O programa analisa se o valor 3 foi digitado e em qual posição ele aparece a primeira vez"
   ]
  },
  {
   "cell_type": "code",
   "execution_count": 44,
   "id": "0ace1c0a-5090-444a-b1af-f5f665250069",
   "metadata": {},
   "outputs": [
    {
     "name": "stdout",
     "output_type": "stream",
     "text": [
      "O valor 3 não foi digitado em nenhuma posição!\n"
     ]
    }
   ],
   "source": [
    "if 3 not in tuple:\n",
    "    print(f'O valor 3 não foi digitado em nenhuma posição!')\n",
    "else:\n",
    "    x3 = tuple.index(3)\n",
    "    print(f'O valor 3 foi digitado na posição {x3 + 1}')\n",
    "    "
   ]
  },
  {
   "cell_type": "markdown",
   "id": "6c115d07-5c05-4c26-9896-a9841ad09cdb",
   "metadata": {},
   "source": [
    "E aqui o programa checa qual os valores digitados são pares..."
   ]
  },
  {
   "cell_type": "code",
   "execution_count": 45,
   "id": "8d375043-381f-448b-9b42-6e2f4f66c2d3",
   "metadata": {},
   "outputs": [
    {
     "name": "stdout",
     "output_type": "stream",
     "text": [
      "Os valores pares digitados foram [2, 4, 6, 8]\n"
     ]
    }
   ],
   "source": [
    "lista = []\n",
    "for c in tuple:\n",
    "    if c % 2 == 0:\n",
    "        lista.append(c)\n",
    "print(f'Os valores pares digitados foram {lista}') \n"
   ]
  },
  {
   "cell_type": "code",
   "execution_count": null,
   "id": "111bed99-8b0a-4a60-8855-1ee685463829",
   "metadata": {},
   "outputs": [],
   "source": []
  }
 ],
 "metadata": {
  "kernelspec": {
   "display_name": "Python 3 (ipykernel)",
   "language": "python",
   "name": "python3"
  },
  "language_info": {
   "codemirror_mode": {
    "name": "ipython",
    "version": 3
   },
   "file_extension": ".py",
   "mimetype": "text/x-python",
   "name": "python",
   "nbconvert_exporter": "python",
   "pygments_lexer": "ipython3",
   "version": "3.11.7"
  }
 },
 "nbformat": 4,
 "nbformat_minor": 5
}
