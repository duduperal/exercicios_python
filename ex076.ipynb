{
 "cells": [
  {
   "cell_type": "markdown",
   "id": "ee64e6f6-b574-4e64-926c-88ffa59220f8",
   "metadata": {},
   "source": [
    "Este programa deverá ter uma tupla única com nomes e preços de produtos, e no final o programa tem que mostrar uma listagem de preços, organizando os dados em forma tabular."
   ]
  },
  {
   "cell_type": "markdown",
   "id": "56c7e2a2-b21f-462c-b017-5ce638bec5bf",
   "metadata": {},
   "source": [
    "Primeiro começamos criando nossa tupla de nomes e preços de produtos"
   ]
  },
  {
   "cell_type": "code",
   "execution_count": 16,
   "id": "fdb2098f-dd0a-41f5-819d-82c69459306e",
   "metadata": {},
   "outputs": [],
   "source": [
    "tupla = ('Macarrão', 3.70, \n",
    "         'Tekitos', 13.90, \n",
    "         'Papel Higiênico', 22.90, \n",
    "         'Leite Integral', 7.90, \n",
    "         'Nutella', 34.99, \n",
    "         'KitKat', 4.99, \n",
    "         'Arroz', 24.99, \n",
    "         'Feijão', 14.99, \n",
    "         'Picanha KG', 55.99, \n",
    "         'Banan UND', 2.99)\n"
   ]
  },
  {
   "cell_type": "markdown",
   "id": "aa2f8b14-0ee4-41b1-a34e-bb2cd8509612",
   "metadata": {},
   "source": [
    "Aqui o programa irá passar por toda a tupla com o passo2 pulando assim o preço, e printando em (c) somente o nome dos produtos, já o (c+1) mostra os preços."
   ]
  },
  {
   "cell_type": "code",
   "execution_count": 45,
   "id": "7afef8c0-2793-4174-a46b-922c432bc257",
   "metadata": {},
   "outputs": [
    {
     "name": "stdout",
     "output_type": "stream",
     "text": [
      "----------------------------------------\n",
      "        PREÇOS SUPERMERCADO2000         \n",
      "----------------------------------------\n",
      "|Macarrão......................R$  3.70|\n",
      "|Tekitos.......................R$ 13.90|\n",
      "|Papel Higiênico...............R$ 22.90|\n",
      "|Leite Integral................R$  7.90|\n",
      "|Nutella.......................R$ 34.99|\n",
      "|KitKat........................R$  4.99|\n",
      "|Arroz.........................R$ 24.99|\n",
      "|Feijão........................R$ 14.99|\n",
      "|Picanha KG....................R$ 55.99|\n",
      "|Banan UND.....................R$  2.99|\n"
     ]
    }
   ],
   "source": [
    "print('-' * 40)\n",
    "print('{:^40}'.format('PREÇOS SUPERMERCADO2000'))\n",
    "print('-' * 40)\n",
    "for c in range (0, len(tupla), 2):\n",
    "    print(f'|{tupla[c]:.<30}R${tupla[c+1]:>6.2f}|')\n",
    "    "
   ]
  },
  {
   "cell_type": "code",
   "execution_count": null,
   "id": "90b6cff2-7efe-4f57-adc6-76f060b9b80b",
   "metadata": {},
   "outputs": [],
   "source": []
  }
 ],
 "metadata": {
  "kernelspec": {
   "display_name": "Python 3 (ipykernel)",
   "language": "python",
   "name": "python3"
  },
  "language_info": {
   "codemirror_mode": {
    "name": "ipython",
    "version": 3
   },
   "file_extension": ".py",
   "mimetype": "text/x-python",
   "name": "python",
   "nbconvert_exporter": "python",
   "pygments_lexer": "ipython3",
   "version": "3.11.7"
  }
 },
 "nbformat": 4,
 "nbformat_minor": 5
}
