{
 "cells": [
  {
   "cell_type": "markdown",
   "id": "43bc9791-ebf4-4e7e-bf4f-ef83167411b2",
   "metadata": {},
   "source": [
    "Neste programa deveremos criar uma tupla que contenha várias palavras(sem acentos), depois disso deveremos fazer o programa mostrar PARA CADA PALAVRA quais são as sua vogais"
   ]
  },
  {
   "cell_type": "markdown",
   "id": "09590f03-5fe2-4c17-8095-6a1c53238108",
   "metadata": {},
   "source": [
    "Começamos criando a nossa tupla com nossas palavras."
   ]
  },
  {
   "cell_type": "code",
   "id": "e8eb1f56-552f-4ba8-8cf2-6e1b1babdf59",
   "metadata": {
    "ExecuteTime": {
     "end_time": "2024-06-21T17:49:27.676540Z",
     "start_time": "2024-06-21T17:49:27.673745Z"
    }
   },
   "source": [
    "tupla = ('CASA', 'PAPEL', 'CACHORRO', 'LARANJA', 'JARDIM', 'ESCOLA', 'AMOR', 'RELOGIO', 'CARRO', 'BOLSA', 'LIVRO', 'TIGRE', 'JANELA')\n"
   ],
   "outputs": [],
   "execution_count": 2
  },
  {
   "cell_type": "markdown",
   "id": "8e05c26d-e516-49d8-8209-8d4c71396833",
   "metadata": {},
   "source": [
    "Aqui o programa irá passar por CADA letra de CADA palavra e checar se é vogal e qual vogal é, conseguindo assim printar quais vogais a palavra tem."
   ]
  },
  {
   "cell_type": "code",
   "id": "1203f13d-c3f4-41f9-9dea-7996fb926a18",
   "metadata": {
    "ExecuteTime": {
     "end_time": "2024-06-21T17:49:29.776993Z",
     "start_time": "2024-06-21T17:49:29.773061Z"
    }
   },
   "source": [
    "for c in tupla:\n",
    "    print(f'Na palavra {c} temos', end=' ')\n",
    "    for i in range(0, len(c)):\n",
    "        if c[i] in 'A':\n",
    "            print('a', end=' ')\n",
    "        elif c[i] in 'E':\n",
    "            print('e', end=' ')\n",
    "        elif c[i] in 'I':\n",
    "            print('i', end=' ')\n",
    "        elif c[i] in 'O':\n",
    "            print('o', end=' ')\n",
    "        elif c[i] in 'U':\n",
    "            print('u', end=' ')\n",
    "    print('')\n",
    "        "
   ],
   "outputs": [
    {
     "name": "stdout",
     "output_type": "stream",
     "text": [
      "Na palavra CASA temos a a \n",
      "Na palavra PAPEL temos a e \n",
      "Na palavra CACHORRO temos a o o \n",
      "Na palavra LARANJA temos a a a \n",
      "Na palavra JARDIM temos a i \n",
      "Na palavra ESCOLA temos e o a \n",
      "Na palavra AMOR temos a o \n",
      "Na palavra RELOGIO temos e o i o \n",
      "Na palavra CARRO temos a o \n",
      "Na palavra BOLSA temos o a \n",
      "Na palavra LIVRO temos i o \n",
      "Na palavra TIGRE temos i e \n",
      "Na palavra JANELA temos a e a \n"
     ]
    }
   ],
   "execution_count": 3
  },
  {
   "cell_type": "markdown",
   "id": "ff34c0b9-4c25-460f-b1a0-ae68d5f5ed19",
   "metadata": {},
   "source": [
    "Outra solução..."
   ]
  },
  {
   "cell_type": "code",
   "id": "eb89fadd-8066-475f-889c-667c6013d611",
   "metadata": {
    "ExecuteTime": {
     "end_time": "2024-06-21T17:53:15.369054Z",
     "start_time": "2024-06-21T17:53:15.365882Z"
    }
   },
   "source": [
    "for c in tupla:\n",
    "    print(f'\\nNa palavra {c} temos as vogais|', end=' ')\n",
    "    for i in c:\n",
    "        if i.lower() in 'aeiou':\n",
    "            print(i.lower(), end=' ')\n",
    "            "
   ],
   "outputs": [
    {
     "name": "stdout",
     "output_type": "stream",
     "text": [
      "\n",
      "Na palavra CASA temos as vogais| a a \n",
      "Na palavra PAPEL temos as vogais| a e \n",
      "Na palavra CACHORRO temos as vogais| a o o \n",
      "Na palavra LARANJA temos as vogais| a a a \n",
      "Na palavra JARDIM temos as vogais| a i \n",
      "Na palavra ESCOLA temos as vogais| e o a \n",
      "Na palavra AMOR temos as vogais| a o \n",
      "Na palavra RELOGIO temos as vogais| e o i o \n",
      "Na palavra CARRO temos as vogais| a o \n",
      "Na palavra BOLSA temos as vogais| o a \n",
      "Na palavra LIVRO temos as vogais| i o \n",
      "Na palavra TIGRE temos as vogais| i e \n",
      "Na palavra JANELA temos as vogais| a e a "
     ]
    }
   ],
   "execution_count": 6
  },
  {
   "metadata": {},
   "cell_type": "code",
   "outputs": [],
   "execution_count": null,
   "source": "",
   "id": "14019873714f4a66"
  }
 ],
 "metadata": {
  "kernelspec": {
   "display_name": "Python 3 (ipykernel)",
   "language": "python",
   "name": "python3"
  },
  "language_info": {
   "codemirror_mode": {
    "name": "ipython",
    "version": 3
   },
   "file_extension": ".py",
   "mimetype": "text/x-python",
   "name": "python",
   "nbconvert_exporter": "python",
   "pygments_lexer": "ipython3",
   "version": "3.11.7"
  }
 },
 "nbformat": 4,
 "nbformat_minor": 5
}
